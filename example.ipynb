{
 "cells": [
  {
   "cell_type": "code",
   "execution_count": 8,
   "metadata": {},
   "outputs": [],
   "source": [
    "from digitalElectronic import *\n",
    "import typing as t"
   ]
  },
  {
   "cell_type": "markdown",
   "metadata": {},
   "source": [
    "# EXAMPLE 1: 对十进制数 9 取补码芯片 CC14561 实现"
   ]
  },
  {
   "cell_type": "code",
   "execution_count": 9,
   "metadata": {},
   "outputs": [
    {
     "name": "stderr",
     "output_type": "stream",
     "text": [
      "d:\\BIG\\PythonProjects\\DigitalElectronic\\digitalElectronic\\device.py:323: UserWarning: The two control ends c and c0 of the transmission gate should be opposite\n",
      "  warnings.warn(\n"
     ]
    }
   ],
   "source": [
    "class CC14561(Device):\n",
    "    def __init__(self):\n",
    "        super().__init__()\n",
    "        self.tgs = TransmissionGate.build(8)\n",
    "        self.angs = ANDNOTgate.build(4)\n",
    "        self.ng1s = NOTgate.build(6)\n",
    "        self.ng2s = NOTgate.build(2)\n",
    "        self.ng3 = NOTgate()\n",
    "        self.ng4 = NOTgate()\n",
    "        self.ng5 = NOTgate()\n",
    "        self.ng5s = NOTgate.build(4)\n",
    "        \n",
    "    def forward(self,A1,A2,A3,A4,COMP,Z) -> t.Tuple[LogicExp]:\n",
    "        on11 = self.ng1s[0](A1)\n",
    "        on12 = self.ng1s[1](A2)\n",
    "        on13 = self.ng1s[2](A3)\n",
    "        on14 = self.ng1s[3](A4)\n",
    "        on15 = self.ng1s[4](COMP)\n",
    "        on16 = self.ng1s[5](Z)\n",
    "\n",
    "        on21 = self.ng2s[0](on12)\n",
    "        on22 = self.ng2s[1](on14)\n",
    "\n",
    "        on3 = self.ng3(on13)\n",
    "        on4 = self.ng4(on11)\n",
    "        on5 = self.ng5(on15)\n",
    "\n",
    "        ot1 = self.tgs[0](on11,on5,on15)\n",
    "        ot2 = self.tgs[1](on4,on15,on5)\n",
    "\n",
    "        ot7 = self.tgs[6](on12,on3,on13)\n",
    "        ot8 = self.tgs[7](on21,on13,on3)\n",
    "\n",
    "        ot3 = self.tgs[2](ot7+ot8,on5,on15)\n",
    "        ot4 = self.tgs[3](on3,on15,on5)\n",
    "\n",
    "        ong = ORNOTgate()\n",
    "\n",
    "        oong = ong(on3,on21,on22)\n",
    "\n",
    "        ot5 = self.tgs[4](oong,on5,on15)\n",
    "        ot6 = self.tgs[5](on22,on15,on5)\n",
    "\n",
    "        Y1 = self.ng5s[0](self.angs[0](ot1+ot2,on16))\n",
    "        Y2 = self.ng5s[1](self.angs[1](on21,on16))\n",
    "        Y3 = self.ng5s[2](self.angs[2](ot3+ot4,on16))\n",
    "        Y4 = self.ng5s[3](self.angs[3](ot5+ot6,on16))\n",
    "\n",
    "        return Y1,Y2,Y3,Y4\n",
    "    \n",
    "\n",
    "cc14561 = CC14561()\n",
    "\n",
    "A1,A2,A3,A4,COMP,Z = symbols(\"A1 A2 A3 A4 COMP Z\")\n",
    "Z.value = 0\n",
    "COMP.value = 1\n",
    "vars = (A1,A2,A3,A4)\n",
    "\n",
    "Y1,Y2,Y3,Y4 = cc14561(A1,A2,A3,A4,COMP,Z)\n",
    "\n",
    "df1 = Y1.get_truth_table(vars,\"Y1\")\n",
    "df2 = Y2.get_truth_table(vars,\"Y2\")\n",
    "df3 = Y3.get_truth_table(vars,\"Y3\")\n",
    "df4 = Y4.get_truth_table(vars,\"Y4\")"
   ]
  },
  {
   "cell_type": "code",
   "execution_count": 10,
   "metadata": {},
   "outputs": [
    {
     "data": {
      "text/html": [
       "<div>\n",
       "<style scoped>\n",
       "    .dataframe tbody tr th:only-of-type {\n",
       "        vertical-align: middle;\n",
       "    }\n",
       "\n",
       "    .dataframe tbody tr th {\n",
       "        vertical-align: top;\n",
       "    }\n",
       "\n",
       "    .dataframe thead th {\n",
       "        text-align: right;\n",
       "    }\n",
       "</style>\n",
       "<table border=\"1\" class=\"dataframe\">\n",
       "  <thead>\n",
       "    <tr style=\"text-align: right;\">\n",
       "      <th></th>\n",
       "      <th>A4</th>\n",
       "      <th>A3</th>\n",
       "      <th>A2</th>\n",
       "      <th>A1</th>\n",
       "      <th>Y4</th>\n",
       "      <th>Y3</th>\n",
       "      <th>Y2</th>\n",
       "      <th>Y1</th>\n",
       "    </tr>\n",
       "  </thead>\n",
       "  <tbody>\n",
       "    <tr>\n",
       "      <th>0</th>\n",
       "      <td>0</td>\n",
       "      <td>0</td>\n",
       "      <td>0</td>\n",
       "      <td>0</td>\n",
       "      <td>1</td>\n",
       "      <td>0</td>\n",
       "      <td>0</td>\n",
       "      <td>1</td>\n",
       "    </tr>\n",
       "    <tr>\n",
       "      <th>1</th>\n",
       "      <td>0</td>\n",
       "      <td>0</td>\n",
       "      <td>0</td>\n",
       "      <td>1</td>\n",
       "      <td>1</td>\n",
       "      <td>0</td>\n",
       "      <td>0</td>\n",
       "      <td>0</td>\n",
       "    </tr>\n",
       "    <tr>\n",
       "      <th>2</th>\n",
       "      <td>0</td>\n",
       "      <td>0</td>\n",
       "      <td>1</td>\n",
       "      <td>0</td>\n",
       "      <td>0</td>\n",
       "      <td>1</td>\n",
       "      <td>1</td>\n",
       "      <td>1</td>\n",
       "    </tr>\n",
       "    <tr>\n",
       "      <th>3</th>\n",
       "      <td>0</td>\n",
       "      <td>0</td>\n",
       "      <td>1</td>\n",
       "      <td>1</td>\n",
       "      <td>0</td>\n",
       "      <td>1</td>\n",
       "      <td>1</td>\n",
       "      <td>0</td>\n",
       "    </tr>\n",
       "    <tr>\n",
       "      <th>4</th>\n",
       "      <td>0</td>\n",
       "      <td>1</td>\n",
       "      <td>0</td>\n",
       "      <td>0</td>\n",
       "      <td>0</td>\n",
       "      <td>1</td>\n",
       "      <td>0</td>\n",
       "      <td>1</td>\n",
       "    </tr>\n",
       "    <tr>\n",
       "      <th>5</th>\n",
       "      <td>0</td>\n",
       "      <td>1</td>\n",
       "      <td>0</td>\n",
       "      <td>1</td>\n",
       "      <td>0</td>\n",
       "      <td>1</td>\n",
       "      <td>0</td>\n",
       "      <td>0</td>\n",
       "    </tr>\n",
       "    <tr>\n",
       "      <th>6</th>\n",
       "      <td>0</td>\n",
       "      <td>1</td>\n",
       "      <td>1</td>\n",
       "      <td>0</td>\n",
       "      <td>0</td>\n",
       "      <td>0</td>\n",
       "      <td>1</td>\n",
       "      <td>1</td>\n",
       "    </tr>\n",
       "    <tr>\n",
       "      <th>7</th>\n",
       "      <td>0</td>\n",
       "      <td>1</td>\n",
       "      <td>1</td>\n",
       "      <td>1</td>\n",
       "      <td>0</td>\n",
       "      <td>0</td>\n",
       "      <td>1</td>\n",
       "      <td>0</td>\n",
       "    </tr>\n",
       "    <tr>\n",
       "      <th>8</th>\n",
       "      <td>1</td>\n",
       "      <td>0</td>\n",
       "      <td>0</td>\n",
       "      <td>0</td>\n",
       "      <td>0</td>\n",
       "      <td>0</td>\n",
       "      <td>0</td>\n",
       "      <td>1</td>\n",
       "    </tr>\n",
       "    <tr>\n",
       "      <th>9</th>\n",
       "      <td>1</td>\n",
       "      <td>0</td>\n",
       "      <td>0</td>\n",
       "      <td>1</td>\n",
       "      <td>0</td>\n",
       "      <td>0</td>\n",
       "      <td>0</td>\n",
       "      <td>0</td>\n",
       "    </tr>\n",
       "    <tr>\n",
       "      <th>10</th>\n",
       "      <td>1</td>\n",
       "      <td>0</td>\n",
       "      <td>1</td>\n",
       "      <td>0</td>\n",
       "      <td>0</td>\n",
       "      <td>1</td>\n",
       "      <td>1</td>\n",
       "      <td>1</td>\n",
       "    </tr>\n",
       "    <tr>\n",
       "      <th>11</th>\n",
       "      <td>1</td>\n",
       "      <td>0</td>\n",
       "      <td>1</td>\n",
       "      <td>1</td>\n",
       "      <td>0</td>\n",
       "      <td>1</td>\n",
       "      <td>1</td>\n",
       "      <td>0</td>\n",
       "    </tr>\n",
       "    <tr>\n",
       "      <th>12</th>\n",
       "      <td>1</td>\n",
       "      <td>1</td>\n",
       "      <td>0</td>\n",
       "      <td>0</td>\n",
       "      <td>0</td>\n",
       "      <td>1</td>\n",
       "      <td>0</td>\n",
       "      <td>1</td>\n",
       "    </tr>\n",
       "    <tr>\n",
       "      <th>13</th>\n",
       "      <td>1</td>\n",
       "      <td>1</td>\n",
       "      <td>0</td>\n",
       "      <td>1</td>\n",
       "      <td>0</td>\n",
       "      <td>1</td>\n",
       "      <td>0</td>\n",
       "      <td>0</td>\n",
       "    </tr>\n",
       "    <tr>\n",
       "      <th>14</th>\n",
       "      <td>1</td>\n",
       "      <td>1</td>\n",
       "      <td>1</td>\n",
       "      <td>0</td>\n",
       "      <td>0</td>\n",
       "      <td>0</td>\n",
       "      <td>1</td>\n",
       "      <td>1</td>\n",
       "    </tr>\n",
       "    <tr>\n",
       "      <th>15</th>\n",
       "      <td>1</td>\n",
       "      <td>1</td>\n",
       "      <td>1</td>\n",
       "      <td>1</td>\n",
       "      <td>0</td>\n",
       "      <td>0</td>\n",
       "      <td>1</td>\n",
       "      <td>0</td>\n",
       "    </tr>\n",
       "  </tbody>\n",
       "</table>\n",
       "</div>"
      ],
      "text/plain": [
       "    A4  A3  A2  A1  Y4  Y3  Y2  Y1\n",
       "0    0   0   0   0   1   0   0   1\n",
       "1    0   0   0   1   1   0   0   0\n",
       "2    0   0   1   0   0   1   1   1\n",
       "3    0   0   1   1   0   1   1   0\n",
       "4    0   1   0   0   0   1   0   1\n",
       "5    0   1   0   1   0   1   0   0\n",
       "6    0   1   1   0   0   0   1   1\n",
       "7    0   1   1   1   0   0   1   0\n",
       "8    1   0   0   0   0   0   0   1\n",
       "9    1   0   0   1   0   0   0   0\n",
       "10   1   0   1   0   0   1   1   1\n",
       "11   1   0   1   1   0   1   1   0\n",
       "12   1   1   0   0   0   1   0   1\n",
       "13   1   1   0   1   0   1   0   0\n",
       "14   1   1   1   0   0   0   1   1\n",
       "15   1   1   1   1   0   0   1   0"
      ]
     },
     "execution_count": 10,
     "metadata": {},
     "output_type": "execute_result"
    }
   ],
   "source": [
    "df1.merge(df2).merge(df3).merge(df4)[[\"A4\",\"A3\",\"A2\",\"A1\",\"Y4\",\"Y3\",\"Y2\",\"Y1\"]]"
   ]
  },
  {
   "cell_type": "code",
   "execution_count": 11,
   "metadata": {},
   "outputs": [
    {
     "name": "stdout",
     "output_type": "stream",
     "text": [
      "A1'A2A3'A4'\n",
      "A1A2A3'A4'\n",
      "A1'A2A3A4'\n",
      "A1A2A3A4'\n",
      "A1'A2A3'A4\n",
      "A1A2A3'A4\n",
      "A1'A2A3A4\n",
      "A1A2A3A4\n"
     ]
    }
   ],
   "source": [
    "\n",
    "for minterm in Y2.minterms(vars):\n",
    "    print(minterm)"
   ]
  },
  {
   "cell_type": "markdown",
   "metadata": {},
   "source": [
    "# EXAMPLE 2 manim"
   ]
  },
  {
   "cell_type": "code",
   "execution_count": 12,
   "metadata": {},
   "outputs": [],
   "source": [
    "from manim import *\n",
    "\n",
    "ag = ANDgate()\n",
    "og = ORgate()\n",
    "ng = NOTgate()\n",
    "xog = XORgate()\n",
    "xnog = XNORgate()\n",
    "ang = ANDNOTgate()\n",
    "ong = ORNOTgate()\n",
    "ag_v = ag.visualize()\n",
    "og_v = og.visualize()\n",
    "ng_v = ng.visualize()\n",
    "xog_v = xog.visualize()\n",
    "xnog_v = xnog.visualize()\n",
    "ang_v = ang.visualize()\n",
    "ong_v = ong.visualize()"
   ]
  },
  {
   "cell_type": "code",
   "execution_count": 13,
   "metadata": {},
   "outputs": [
    {
     "name": "stderr",
     "output_type": "stream",
     "text": [
      "                                                                                \r"
     ]
    },
    {
     "data": {
      "text/html": [
       "<video src=\"media\\jupyter\\Test@2025-04-29@01-22-17.mp4\" controls autoplay loop style=\"max-width: 60%;\"  >\n",
       "      Your browser does not support the <code>video</code> element.\n",
       "    </video>"
      ],
      "text/plain": [
       "<IPython.core.display.Video object>"
      ]
     },
     "metadata": {},
     "output_type": "display_data"
    }
   ],
   "source": [
    "%%manim -qm -v WARNING Test\n",
    "\n",
    "class Test(Scene):\n",
    "   def construct(self):\n",
    "      self.play(Create(ag_v))\n",
    "      self.play(Transform(ag_v, og_v))\n",
    "      self.wait(1)\n",
    "      self.play(Transform(ag_v, ng_v))\n",
    "      self.wait(1)\n",
    "      self.play(Transform(ag_v, xog_v))\n",
    "      self.wait(1)\n",
    "      self.play(Transform(ag_v, xnog_v))\n",
    "      self.wait(1)\n",
    "      self.play(Transform(ag_v, ang_v))\n",
    "      self.wait(1)\n",
    "      self.play(Transform(ag_v, ong_v))\n",
    "      self.wait(1)"
   ]
  },
  {
   "cell_type": "code",
   "execution_count": 14,
   "metadata": {},
   "outputs": [
    {
     "name": "stderr",
     "output_type": "stream",
     "text": [
      "                                                                                              \r"
     ]
    },
    {
     "data": {
      "text/html": [
       "<video src=\"media\\jupyter\\Test2@2025-04-29@01-22-23.mp4\" controls autoplay loop style=\"max-width: 60%;\"  >\n",
       "      Your browser does not support the <code>video</code> element.\n",
       "    </video>"
      ],
      "text/plain": [
       "<IPython.core.display.Video object>"
      ]
     },
     "metadata": {},
     "output_type": "display_data"
    }
   ],
   "source": [
    "%%manim -qm -v WARNING Test2\n",
    "\n",
    "tg = TransmissionGate()\n",
    "tg_v = tg.visualize()\n",
    "\n",
    "class Test2(Scene):\n",
    "   def construct(self):\n",
    "      self.play(Create(tg_v))\n",
    "      self.wait()"
   ]
  },
  {
   "cell_type": "markdown",
   "metadata": {},
   "source": [
    "# EXAMPLE 3 waves"
   ]
  },
  {
   "cell_type": "code",
   "execution_count": 15,
   "metadata": {},
   "outputs": [
    {
     "data": {
      "image/png": "[encoded data removed]",
      "text/plain": [
       "<IPython.core.display.Image object>"
      ]
     },
     "metadata": {},
     "output_type": "display_data"
    }
   ],
   "source": [
    "%%manim -qh -v WARNING -s work3\n",
    "from digitalElectronic import get_wave_fig,draw_dashlines,tab2func\n",
    "from digitalElectronic.device import  JKFF\n",
    "\n",
    "\n",
    "\n",
    "class work3(Scene):\n",
    "   def construct(self):\n",
    "      \n",
    "      fclk = lambda x: (np.sin(2*np.pi*x) < 0)\n",
    "      fT = lambda x: (1.25<x<6.25 or 8.75<x<13.75)\n",
    "      x_range=[0, 15, 0.01]\n",
    "      x,Q,Qi = JKFF.draw_wave(x_range,fT,fT,fclk)\n",
    "      \n",
    "      clk_g,clk = get_wave_fig(fclk,x_range)      \n",
    "      T_g,T = get_wave_fig(fT,x_range)\n",
    "      Q_g,Q = get_wave_fig(tab2func(x,Q),x_range)\n",
    "      Qi_g,Qi = get_wave_fig(tab2func(x,Qi),x_range)\n",
    "      \n",
    "      clk_g.to_edge(UP)\n",
    "      T_g.next_to(clk_g,DOWN)\n",
    "      Q_g.next_to(T_g,DOWN)\n",
    "      Qi_g.next_to(Q_g,DOWN)\n",
    "      \n",
    "      y_label_clk = clk[0].get_y_axis_label(MathTex(\"CLK\").scale(1.5*0.22), edge=UL, direction=LEFT, buff=0.5*0.22)\n",
    "      y_label_T = T[0].get_y_axis_label(MathTex(\"T\").scale(1.5*0.22), edge=UL, direction=LEFT, buff=0.5*0.22)\n",
    "      y_label_Q = Q[0].get_y_axis_label(MathTex(\"Q\").scale(1.5*0.22), edge=UL, direction=LEFT, buff=0.5*0.22)\n",
    "      y_label_Qi = Qi[0].get_y_axis_label(MathTex(\"Q'\").scale(1.5*0.22), edge=UL, direction=LEFT, buff=0.5*0.22)\n",
    "      \n",
    "      labels = VGroup(y_label_clk,y_label_T,y_label_Q,y_label_Qi)\n",
    "      \n",
    "      dsls = draw_dashlines(clk[0],Qi[0],(1.25,2,3,4,5,6,6.25,8.75,10,11,12,13,13.75))\n",
    "      \n",
    "      self.add(clk_g,T_g,Q_g,Qi_g,labels,dsls)"
   ]
  }
 ],
 "metadata": {
  "kernelspec": {
   "display_name": "Python 3",
   "language": "python",
   "name": "python3"
  },
  "language_info": {
   "codemirror_mode": {
    "name": "ipython",
    "version": 3
   },
   "file_extension": ".py",
   "mimetype": "text/x-python",
   "name": "python",
   "nbconvert_exporter": "python",
   "pygments_lexer": "ipython3",
   "version": "3.11.4"
  }
 },
 "nbformat": 4,
 "nbformat_minor": 2
}
